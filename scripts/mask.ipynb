{
 "cells": [
  {
   "cell_type": "code",
   "execution_count": null,
   "metadata": {},
   "outputs": [],
   "source": [
    "!git clone https://github.com/kk-digital/kcg-ml-sd1p4\n",
    "!cd kcg-ml-sd1p4 && git pull"
   ]
  },
  {
   "cell_type": "code",
   "execution_count": 117,
   "metadata": {},
   "outputs": [],
   "source": [
    "import torch\n",
    "from PIL import ImageDraw, Image\n",
    "from typing import List, Tuple\n",
    "\n",
    "Point = Tuple[int, int]\n",
    "Points = List[Point]\n",
    "\n",
    "PRESERVE = 1\n",
    "MODIFY = 0"
   ]
  },
  {
   "cell_type": "code",
   "execution_count": 118,
   "metadata": {},
   "outputs": [],
   "source": [
    "def create_mask_from_points(points: Points, image_width: int, image_height: int, float_size=32):\n",
    "    d_type = torch.float32\n",
    "    if float_size == 64:\n",
    "        d_type = torch.float64  \n",
    "    elif float_size == 16:\n",
    "        d_type = torch.float16\n",
    "\n",
    "    mask = torch.zeros((image_height, image_width), dtype=d_type)\n",
    "    mask = torch.fill(mask, PRESERVE)\n",
    "    \n",
    "    # mark the points in the mask with 1\n",
    "    for point in points:\n",
    "        x, y = point\n",
    "        mask[x][y] = MODIFY\n",
    "\n",
    "    return mask"
   ]
  },
  {
   "cell_type": "code",
   "execution_count": 119,
   "metadata": {},
   "outputs": [],
   "source": [
    "def generate_points_within_polygon(vertices: Points):\n",
    "    # Find the minimum and maximum x and y values\n",
    "    min_x = min(vertices, key=lambda p: p[0])[0]\n",
    "    max_x = max(vertices, key=lambda p: p[0])[0]\n",
    "    min_y = min(vertices, key=lambda p: p[1])[1]\n",
    "    max_y = max(vertices, key=lambda p: p[1])[1]\n",
    "\n",
    "    # Generate random points within the bounding box\n",
    "    points: Points = []\n",
    "    for y in range(min_y, max_y + 1):\n",
    "        intersections = []\n",
    "        for i in range(len(vertices)):\n",
    "            x1, y1 = vertices[i]\n",
    "            x2, y2 = vertices[(i + 1) % len(vertices)]\n",
    "\n",
    "            # Check if the point is within the polygon\n",
    "            if (y1 <= y < y2) or y2 <= y < y1:\n",
    "                intersections.append(int(x1 + (y - y1) * (x2 - x1) / (y2 - y1)))\n",
    "\n",
    "        # Sort the intersections from smallest to largest\n",
    "        intersections.sort()\n",
    "        for i in range(0, len(intersections), 2):\n",
    "            for x in range(intersections[i], intersections[i + 1] + 1):\n",
    "                points.append((x, y))\n",
    "\n",
    "    return points"
   ]
  },
  {
   "cell_type": "code",
   "execution_count": 120,
   "metadata": {},
   "outputs": [
    {
     "name": "stdout",
     "output_type": "stream",
     "text": [
      "tensor([[0., 0., 0., 0., 0., 1., 1., 1., 1., 1.],\n",
      "        [0., 0., 0., 0., 0., 1., 1., 1., 1., 1.],\n",
      "        [0., 0., 0., 0., 1., 1., 1., 1., 1., 1.],\n",
      "        [0., 0., 0., 1., 1., 1., 1., 1., 1., 1.],\n",
      "        [0., 0., 1., 1., 1., 1., 1., 1., 1., 1.],\n",
      "        [0., 1., 1., 1., 1., 1., 1., 1., 1., 1.],\n",
      "        [1., 1., 1., 1., 1., 1., 1., 1., 1., 1.],\n",
      "        [1., 1., 1., 1., 1., 1., 1., 1., 1., 1.],\n",
      "        [1., 1., 1., 1., 1., 1., 1., 1., 1., 1.],\n",
      "        [1., 1., 1., 1., 1., 1., 1., 1., 1., 1.]])\n"
     ]
    }
   ],
   "source": [
    "d = 10\n",
    "vertices = [(0, 0), (0, 5), (5, 0)]\n",
    "points = generate_points_within_polygon(vertices)\n",
    "mask = create_mask_from_points(points, d, d)\n",
    "print(mask)"
   ]
  },
  {
   "cell_type": "code",
   "execution_count": 121,
   "metadata": {},
   "outputs": [],
   "source": [
    "def generate_points_within_circle(center: Point, radius: int):\n",
    "    points: Points = []\n",
    "    for x in range(center[0] - radius, center[0] + radius + 1):\n",
    "        for y in range(center[1] - radius, center[1] + radius + 1):\n",
    "            if (x - center[0]) ** 2 + (y - center[1]) ** 2 <= radius ** 2:\n",
    "                points.append((x, y))\n",
    "\n",
    "    return points"
   ]
  },
  {
   "cell_type": "code",
   "execution_count": 122,
   "metadata": {},
   "outputs": [
    {
     "name": "stdout",
     "output_type": "stream",
     "text": [
      "tensor([[1., 1., 1., 1., 1., 1., 1., 1., 1., 1.],\n",
      "        [1., 1., 1., 1., 1., 1., 1., 1., 1., 1.],\n",
      "        [1., 1., 1., 1., 1., 0., 1., 1., 1., 1.],\n",
      "        [1., 1., 1., 0., 0., 0., 0., 0., 1., 1.],\n",
      "        [1., 1., 1., 0., 0., 0., 0., 0., 1., 1.],\n",
      "        [1., 1., 0., 0., 0., 0., 0., 0., 0., 1.],\n",
      "        [1., 1., 1., 0., 0., 0., 0., 0., 1., 1.],\n",
      "        [1., 1., 1., 0., 0., 0., 0., 0., 1., 1.],\n",
      "        [1., 1., 1., 1., 1., 0., 1., 1., 1., 1.],\n",
      "        [1., 1., 1., 1., 1., 1., 1., 1., 1., 1.]])\n"
     ]
    }
   ],
   "source": [
    "d = 10\n",
    "center = (5, 5)\n",
    "radius = 3\n",
    "points = generate_points_within_circle(center, radius)\n",
    "mask = create_mask_from_points(points, d, d)\n",
    "print(mask)"
   ]
  },
  {
   "cell_type": "code",
   "execution_count": 123,
   "metadata": {},
   "outputs": [],
   "source": [
    "from PIL import Image\n",
    "from typing import Union\n",
    "\n",
    "def add_pixels_to_image(image: Union[str, Image.Image], top_pixels: int, right_pixels: int, bottom_pixels: int, left_pixels: int):\n",
    "    if isinstance(image, str):\n",
    "        image = Image.open(image)\n",
    "\n",
    "    # Get the current image size\n",
    "    width, height = image.size\n",
    "\n",
    "    # Calculate the new image size\n",
    "    new_width = width + left_pixels + right_pixels\n",
    "    new_height = height + top_pixels + bottom_pixels\n",
    "\n",
    "    # Create a new blank image with the desired size\n",
    "    new_image = Image.new(image.mode, (new_width, new_height))\n",
    "\n",
    "    # Paste the original image into the new image with the offsets\n",
    "    new_image.paste(image, (left_pixels, top_pixels))\n",
    "\n",
    "    return new_image"
   ]
  },
  {
   "cell_type": "code",
   "execution_count": 124,
   "metadata": {},
   "outputs": [],
   "source": [
    "image_path = '../monkey.jpg'\n",
    "top_pixels = bottom_pixels = left_pixels = right_pixels = 100\n",
    "\n",
    "new_image = add_pixels_to_image(image_path, top_pixels, bottom_pixels, left_pixels, right_pixels)\n",
    "new_image.save('monkey_with_border.jpg')\n"
   ]
  },
  {
   "cell_type": "code",
   "execution_count": 125,
   "metadata": {},
   "outputs": [],
   "source": [
    "import numpy as np\n",
    "\n",
    "def generate_inpaint_mask(width: int, height: int, top_pixels: int, right_pixels: int, bottom_pixels: int, left_pixels: int):\n",
    "    # Create a blank mask of the same size as the image\n",
    "    new_width = width + left_pixels + right_pixels\n",
    "    new_height = height + top_pixels + bottom_pixels\n",
    "    \n",
    "    mask = np.full((new_height, new_width), PRESERVE, dtype=np.uint8)\n",
    "\n",
    "    # Fill in the mask with MODIFY values where the image was padded\n",
    "    mask[:top_pixels, :] = MODIFY\n",
    "    mask[-bottom_pixels:, :] = MODIFY\n",
    "    mask[:, :left_pixels] = MODIFY\n",
    "    mask[:, -right_pixels:] = MODIFY\n",
    "\n",
    "    return torch.from_numpy(mask)"
   ]
  },
  {
   "cell_type": "code",
   "execution_count": 126,
   "metadata": {},
   "outputs": [
    {
     "name": "stdout",
     "output_type": "stream",
     "text": [
      "tensor([[0, 0, 0, 0, 0, 0, 0, 0, 0, 0, 0, 0, 0, 0],\n",
      "        [0, 0, 0, 0, 0, 0, 0, 0, 0, 0, 0, 0, 0, 0],\n",
      "        [0, 0, 1, 1, 1, 1, 1, 1, 1, 1, 1, 1, 0, 0],\n",
      "        [0, 0, 1, 1, 1, 1, 1, 1, 1, 1, 1, 1, 0, 0],\n",
      "        [0, 0, 1, 1, 1, 1, 1, 1, 1, 1, 1, 1, 0, 0],\n",
      "        [0, 0, 1, 1, 1, 1, 1, 1, 1, 1, 1, 1, 0, 0],\n",
      "        [0, 0, 1, 1, 1, 1, 1, 1, 1, 1, 1, 1, 0, 0],\n",
      "        [0, 0, 1, 1, 1, 1, 1, 1, 1, 1, 1, 1, 0, 0],\n",
      "        [0, 0, 1, 1, 1, 1, 1, 1, 1, 1, 1, 1, 0, 0],\n",
      "        [0, 0, 1, 1, 1, 1, 1, 1, 1, 1, 1, 1, 0, 0],\n",
      "        [0, 0, 1, 1, 1, 1, 1, 1, 1, 1, 1, 1, 0, 0],\n",
      "        [0, 0, 1, 1, 1, 1, 1, 1, 1, 1, 1, 1, 0, 0],\n",
      "        [0, 0, 0, 0, 0, 0, 0, 0, 0, 0, 0, 0, 0, 0],\n",
      "        [0, 0, 0, 0, 0, 0, 0, 0, 0, 0, 0, 0, 0, 0]], dtype=torch.uint8)\n"
     ]
    }
   ],
   "source": [
    "width = height = 10\n",
    "top_pixels = bottom_pixels = left_pixels = right_pixels = 2\n",
    "mask = generate_inpaint_mask(width, height, top_pixels, right_pixels, bottom_pixels, left_pixels)\n",
    "print(mask)"
   ]
  },
  {
   "cell_type": "code",
   "execution_count": 148,
   "metadata": {},
   "outputs": [],
   "source": [
    "from typing import List, Optional\n",
    "import torch\n",
    "\n",
    "def merge_masks(masks: List[torch.Tensor]) -> torch.Tensor:\n",
    "    if not masks:\n",
    "        return torch.empty(0)\n",
    "\n",
    "    # Get the shape of the first mask\n",
    "    mask_shape = masks[0].shape\n",
    "\n",
    "    # Create a merged mask tensor\n",
    "    merged_mask = torch.full_like(masks[0], PRESERVE, dtype=torch.float32)\n",
    "\n",
    "    for mask in masks:\n",
    "        # Ensure that the shapes of all masks match\n",
    "        if mask.shape != mask_shape:\n",
    "            raise ValueError(\"All masks should have the same shape.\")\n",
    "\n",
    "        # Merge the current mask with the existing merged mask\n",
    "        merged_mask = torch.logical_and(merged_mask, mask)\n",
    "\n",
    "    # Convert the merged mask to a float tensor\n",
    "    merged_mask = merged_mask.type(torch.float32)\n",
    "\n",
    "    return merged_mask"
   ]
  },
  {
   "cell_type": "code",
   "execution_count": 150,
   "metadata": {},
   "outputs": [
    {
     "name": "stdout",
     "output_type": "stream",
     "text": [
      "tensor([[0., 0., 0., 0., 0., 1., 1., 1., 1., 1., 1., 1., 1., 1.],\n",
      "        [0., 0., 0., 0., 0., 1., 1., 1., 1., 1., 1., 1., 1., 1.],\n",
      "        [0., 0., 0., 0., 0., 1., 1., 1., 1., 1., 1., 1., 1., 1.],\n",
      "        [0., 0., 0., 0., 0., 1., 1., 1., 1., 1., 1., 1., 1., 1.],\n",
      "        [0., 0., 0., 0., 0., 1., 1., 1., 1., 1., 1., 1., 1., 1.],\n",
      "        [0., 0., 0., 0., 0., 1., 1., 1., 1., 1., 1., 1., 1., 1.],\n",
      "        [1., 1., 1., 1., 1., 1., 1., 1., 1., 1., 1., 1., 1., 1.],\n",
      "        [1., 1., 1., 1., 1., 1., 1., 1., 1., 1., 1., 1., 1., 1.],\n",
      "        [1., 1., 1., 1., 1., 1., 1., 1., 1., 1., 1., 1., 1., 1.],\n",
      "        [1., 1., 1., 1., 1., 1., 1., 1., 1., 1., 1., 1., 1., 1.],\n",
      "        [1., 1., 1., 1., 1., 1., 1., 1., 1., 1., 1., 1., 1., 1.],\n",
      "        [1., 1., 1., 1., 1., 1., 1., 1., 1., 1., 1., 1., 1., 1.],\n",
      "        [1., 1., 1., 1., 1., 1., 1., 1., 1., 1., 1., 1., 1., 1.],\n",
      "        [1., 1., 1., 1., 1., 1., 1., 1., 1., 1., 1., 1., 1., 1.]])\n"
     ]
    }
   ],
   "source": [
    "width = height = 14\n",
    "\n",
    "points1 = [(0, 0), (0, 5), (5, 0)]\n",
    "points2 = [(5, 5), (0, 5), (5, 0)]\n",
    "\n",
    "polygon1 = generate_points_within_polygon(points1)\n",
    "polygon2 = generate_points_within_polygon(points2)\n",
    "\n",
    "mask1 = create_mask_from_points(polygon1, width, height)\n",
    "mask2 = create_mask_from_points(polygon2, width, height)\n",
    "\n",
    "mask = merge_masks([mask1, mask2])\n",
    "print(mask)\n"
   ]
  },
  {
   "cell_type": "code",
   "execution_count": 129,
   "metadata": {},
   "outputs": [],
   "source": [
    "def invert_mask(mask: torch.Tensor):\n",
    "    return torch.logical_not(mask).int()"
   ]
  },
  {
   "cell_type": "code",
   "execution_count": 154,
   "metadata": {},
   "outputs": [
    {
     "name": "stdout",
     "output_type": "stream",
     "text": [
      "tensor([[1, 1, 1, 1, 1, 0, 0, 0, 0, 0, 0, 0, 0, 0],\n",
      "        [1, 1, 1, 1, 1, 0, 0, 0, 0, 0, 0, 0, 0, 0],\n",
      "        [1, 1, 1, 1, 1, 0, 0, 0, 0, 0, 0, 0, 0, 0],\n",
      "        [1, 1, 1, 1, 1, 0, 0, 0, 0, 0, 0, 0, 0, 0],\n",
      "        [1, 1, 1, 1, 1, 0, 0, 0, 0, 0, 0, 0, 0, 0],\n",
      "        [1, 1, 1, 1, 1, 0, 0, 0, 0, 0, 0, 0, 0, 0],\n",
      "        [0, 0, 0, 0, 0, 0, 0, 0, 0, 0, 0, 0, 0, 0],\n",
      "        [0, 0, 0, 0, 0, 0, 0, 0, 0, 0, 0, 0, 0, 0],\n",
      "        [0, 0, 0, 0, 0, 0, 0, 0, 0, 0, 0, 0, 0, 0],\n",
      "        [0, 0, 0, 0, 0, 0, 0, 0, 0, 0, 0, 0, 0, 0],\n",
      "        [0, 0, 0, 0, 0, 0, 0, 0, 0, 0, 0, 0, 0, 0],\n",
      "        [0, 0, 0, 0, 0, 0, 0, 0, 0, 0, 0, 0, 0, 0],\n",
      "        [0, 0, 0, 0, 0, 0, 0, 0, 0, 0, 0, 0, 0, 0],\n",
      "        [0, 0, 0, 0, 0, 0, 0, 0, 0, 0, 0, 0, 0, 0]], dtype=torch.int32)\n"
     ]
    }
   ],
   "source": [
    "width = height = 14\n",
    "\n",
    "# 3 points polygon\n",
    "points1 = [(0, 0), (0, 5), (5, 0)]\n",
    "points2 = [(5, 5), (0, 5), (5, 0)]\n",
    "\n",
    "polygon1 = generate_points_within_polygon(points1)\n",
    "polygon2 = generate_points_within_polygon(points2)\n",
    "\n",
    "mask1 = create_mask_from_points(polygon1, width, height)\n",
    "mask2 = create_mask_from_points(polygon2, width, height)\n",
    "\n",
    "mask = merge_masks([mask1, mask2])\n",
    "mask = invert_mask(mask)\n",
    "print(mask)\n"
   ]
  },
  {
   "cell_type": "code",
   "execution_count": null,
   "metadata": {},
   "outputs": [],
   "source": [
    "from in_paint import InPaint\n",
    "\n",
    "image_path = '../monkey.jpg'\n",
    "image = Image.open(image_path)\n",
    "\n",
    "width, height = image.size\n",
    "\n",
    "top_pixels = bottom_pixels = left_pixels = right_pixels = 100\n",
    "mask = generate_inpaint_mask(width, height, top_pixels, right_pixels, bottom_pixels, left_pixels)\n",
    "new_image = add_pixels_to_image(image, top_pixels, right_pixels, bottom_pixels, left_pixels)\n",
    "\n",
    "\n",
    "new_image_path = 'monkey_with_border.jpg'\n",
    "new_image.save(new_image_path)\n",
    "\n",
    "inpaint = InPaint(checkpoint_path='../input/model/sd-v1-4.ckpt')\n",
    "inpaint.initialize_script()\n",
    "\n",
    "strength = 0.5\n",
    "\n",
    "# In-paint the image\n",
    "images = inpaint.repaint_image(orig_img=new_image_path,\n",
    "                        strength=strength,\n",
    "                        batch_size=1,\n",
    "                        prompt=\"a monkey\",\n",
    ")\n",
    "\n",
    "def save_images(images: torch.Tensor, dest_path: str, img_format: str = 'jpeg'):\n",
    "    \"\"\"\n",
    "    ### Save a images\n",
    "\n",
    "    :param images: is the tensor with images of shape `[batch_size, channels, height, width]`\n",
    "    :param dest_path: is the folder to save images in\n",
    "    :param img_format: is the image format\n",
    "    \"\"\"\n",
    "\n",
    "    # Map images to `[0, 1]` space and clip\n",
    "    images = torch.clamp((images + 1.0) / 2.0, min=0.0, max=1.0)\n",
    "    # Transpose to `[batch_size, height, width, channels]` and convert to numpy\n",
    "    images = images.cpu()\n",
    "    images = images.permute(0, 2, 3, 1)\n",
    "    images = images.float().numpy()\n",
    "\n",
    "    # Save images\n",
    "    for i, img in enumerate(images):\n",
    "        img = Image.fromarray((255. * img).astype(np.uint8))\n",
    "        img.save(dest_path, format=img_format)\n",
    "\n",
    "# Save the image\n",
    "save_images(images, 'monkey_inpaint.jpg')\n"
   ]
  }
 ],
 "metadata": {
  "kernelspec": {
   "display_name": "Python 3",
   "language": "python",
   "name": "python3"
  },
  "language_info": {
   "codemirror_mode": {
    "name": "ipython",
    "version": 3
   },
   "file_extension": ".py",
   "mimetype": "text/x-python",
   "name": "python",
   "nbconvert_exporter": "python",
   "pygments_lexer": "ipython3",
   "version": "3.10.6"
  },
  "orig_nbformat": 4
 },
 "nbformat": 4,
 "nbformat_minor": 2
}
